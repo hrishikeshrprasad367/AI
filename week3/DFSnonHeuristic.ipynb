{
  "nbformat": 4,
  "nbformat_minor": 0,
  "metadata": {
    "colab": {
      "provenance": [],
      "authorship_tag": "ABX9TyPd0cyYnKLEE7pJdhORe5UB",
      "include_colab_link": true
    },
    "kernelspec": {
      "name": "python3",
      "display_name": "Python 3"
    },
    "language_info": {
      "name": "python"
    }
  },
  "cells": [
    {
      "cell_type": "markdown",
      "metadata": {
        "id": "view-in-github",
        "colab_type": "text"
      },
      "source": [
        "<a href=\"https://colab.research.google.com/github/hrishikeshrprasad367/AI/blob/main/week3/DFSnonHeuristic.ipynb\" target=\"_parent\"><img src=\"https://colab.research.google.com/assets/colab-badge.svg\" alt=\"Open In Colab\"/></a>"
      ]
    },
    {
      "cell_type": "code",
      "execution_count": 2,
      "metadata": {
        "colab": {
          "base_uri": "https://localhost:8080/"
        },
        "id": "Gh7bHGCWrmFj",
        "outputId": "7a6b762d-3e4f-4326-e992-b8f7f7a9b709"
      },
      "outputs": [
        {
          "output_type": "stream",
          "name": "stdout",
          "text": [
            "Enter the start state row by row (3 numbers each row, space separated). Use 0 or leave blank for empty cell:\n",
            "Row 1: 2 8 3\n",
            "Row 2: 1 6 4\n",
            "Row 3: 7 0 5\n",
            "Enter the goal state row by row (3 numbers each row, space separated). Use 0 or leave blank for empty cell:\n",
            "Row 1: 1 2 3 \n",
            "Row 2: 8 0 4\n",
            "Row 3: 7 6 5\n",
            "\n",
            "Total states visited: 3528\n",
            "\n",
            "Final path length: 3438\n",
            "Final state:\n",
            "1 2 3\n",
            "8   4\n",
            "7 6 5\n",
            "\n",
            "Remaining states in stack (positions of zero):\n",
            "4 6 2 1 7 0 4 2 1 7 0 4 2 1 7 0 4 2 1 7 0 4 2 1 7 4 8 1 7 0 4 2 1 7 0 4 2 1 7 0 4 2 1 7 0 4 2 1 7 0 1 3 2 4 0 1 7 2 4 0 1 7 4 6 1 7 2 4 0 1 7 2 4 0 1 7 2 4 0 1 7 2 4 0 1 7 2 1 3 2 4 0 1 7 2 4 0 1 7 4 6 1 7 2 4 0 1 7 2 4 0 1 7 2 4 0 1 7 2 4 0 1 7 2 1 3 2 4 0 1 7 2 4 0 1 7 4 6 1 7 2 4 0 1 7 2 4 0 1 7 2 4 0 1 7 2 4 0 1 7 2 1 3 2 4 0 1 7 2 4 0 1 7 4 6 1 7 2 4 0 1 7 2 4 0 1 7 2 4 0 1 7 2 4 0 1 7 2 1 3 2 4 0 1 7 2 4 0 1 7 4 6 1 7 2 4 0 1 7 2 4 0 1 7 2 4 0 1 7 2 4 0 1 7 2 1 3 2 4 0 1 7 2 4 0 1 7 4 6 1 7 2 4 0 1 7 2 4 0 1 7 2 4 0 1 7 2 4 0 1 7 2 1 3 2 4 0 1 7 2 4 0 1 7 7 3 2 4 0 1 7 2 4 0 1 7 2 4 0 1 7 2 4 0 1 7 2 1 3 2 4 0 1 7 2 4 0 1 7 4 6 1 7 2 4 0 1 7 2 4 0 1 7 2 4 0 1 7 2 4 0 1 7 2 1 3 2 4 0 1 7 2 4 0 1 6 4 6 1 7 2 4 0 1 7 2 4 0 1 7 2 4 0 1 7 2 4 0 1 7 2 1 3 2 4 0 1 7 2 4 0 1 7 4 6 1 7 2 4 0 1 7 2 4 0 1 7 2 4 0 1 7 2 4 0 1 7 2 1 3 2 4 0 1 7 2 4 0 1 7 4 6 1 7 2 4 0 1 7 2 4 0 1 7 2 4 0 1 7 2 4 0 1 7 2 1 3 2 4 0 1 7 2 4 0 1 7 4 6 1 7 2 4 0 1 7 2 4 0 1 7 2 4 0 1 7 2 4 0 1 7 2 1 3 2 4 0 1 7 2 4 0 1 7 4 6 1 7 2 4 0 1 7 2 4 0 1 7 2 4 0 1 7 2 4 0 1 7 2 1 3 2 4 0 1 7 2 4 0 1 7 4 6 1 7 4 6 1 7 2 4 0 1 7 2 4 0 1 7 2 4 0 1 7 2 4 0 1 7 2 1 3 2 4 0 1 7 2 4 0 1 7 4 6 1 7 2 4 0 1 7 2 4 0 1 7 2 4 0 1 7 2 4 0 1 7 2 1 3 2 4 0 1 7 2 4 0 1 7 4 6 1 7 2 4 0 1 7 2 4 0 1 7 2 4 0 1 7 2 4 0 1 7 2 1 3 2 4 0 1 7 2 4 0 1 7 7 3 2 4 0 1 7 2 4 0 1 7 2 4 0 1 7 2 4 0 1 7 2 1 3 2 4 0 1 7 2 4 0 1 7 4 6 1 7 2 4 0 1 7 2 4 0 1 7 2 4 0 1 7 2 4 0 1 7 2 1 3 2 4 0 1 7 2 4 0 1 7 4 6 1 7 2 4 0 1 7 2 4 0 1 7 2 4 0 1 7 2 4 0 1 7 2 1 3 2 4 0 1 7 2 4 0 1 7 4 6 1 7 4 6 1 7 2 4 0 1 7 2 4 0 1 7 2 4 0 1 7 2 4 0 1 7 2 1 3 2 4 0 1 7 2 4 0 1 7 4 6 1 7 2 4 0 1 7 2 4 0 1 7 2 4 0 1 7 2 4 0 1 7 2 1 3 2 4 0 1 7 2 4 0 1 7 4 6 1 7 2 4 0 1 7 2 4 0 1 7 2 4 0 1 7 2 4 0 1 7 2 1 3 2 4 0 1 7 2 4 0 1 7 4 6 1 7 2 4 0 1 7 2 4 0 1 7 2 4 0 1 7 2 4 0 1 7 2 1 3 2 4 0 1 7 2 4 0 1 7 4 6 1 7 2 4 0 1 7 2 4 0 1 7 2 4 0 1 7 2 4 0 1 7 2 1 3 2 4 0 1 7 2 4 0 1 7 4 6 1 7 2 4 0 1 7 2 4 0 1 7 2 4 0 1 7 2 4 0 1 7 2 1 3 2 4 0 1 7 2 4 0 1 7 7 3 2 4 0 1 7 2 4 0 1 7 2 4 0 1 7 2 4 0 1 7 2 1 3 2 4 0 1 7 2 4 0 1 7 4 6 1 7 2 4 0 1 7 2 4 0 1 7 2 4 0 1 7 2 4 0 1 7 2 1 3 2 4 0 1 7 2 4 0 1 6 4 6 1 7 2 4 0 1 7 2 4 0 1 7 2 4 0 1 7 2 4 0 1 7 2 1 3 2 4 0 1 7 2 4 0 1 7 4 6 1 7 2 4 0 1 7 2 4 0 1 7 2 4 0 1 7 2 4 0 1 7 2 1 3 2 4 0 1 7 2 4 0 1 7 4 6 1 7 2 4 0 1 7 2 4 0 1 7 2 4 0 1 7 2 4 0 1 7 2 1 3 2 4 0 1 7 2 4 0 1 7 4 6 1 7 2 4 0 1 7 2 4 0 1 7 2 4 0 1 7 2 4 0 1 7 2 1 3 2 4 0 1 7 2 4 0 1 7 4 6 1 7 2 4 0 1 7 2 4 0 1 7 2 4 0 1 7 2 4 0 1 7 2 1 3 2 4 0 1 7 2 4 0 1 7 4 6 1 7 4 6 1 7 2 4 0 1 7 2 4 0 1 7 2 4 0 1 7 2 0 1 7 2 1 3 2 4 0 1 7 2 4 0 1 7 4 6 1 7 2 4 0 1 7 2 4 0 1 7 2 4 0 1 7 2 4 0 1 7 2 1 3 2 4 0 1 7 2 4 0 1 7 4 6 1 7 2 4 0 1 7 2 4 0 1 7 2 4 0 1 7 2 4 0 1 7 2 1 3 2 4 0 1 7 2 4 0 1 7 7 3 2 4 0 1 7 2 4 0 1 7 2 4 0 1 7 2 4 0 1 7 2 1 3 2 4 0 1 7 2 4 0 1 7 4 6 1 7 2 4 0 1 7 2 4 0 1 7 2 4 0 1 7 2 4 0 1 7 2 1 3 2 4 0 1 7 2 4 0 1 7 4 6 1 7 2 4 0 1 7 2 4 0 1 7 2 4 0 1 7 2 4 0 1 7 2 1 3 2 4 0 1 7 2 4 0 1 7 4 6 1 7 4 6 1 7 2 4 0 1 7 2 4 0 1 7 2 4 0 1 7 2 4 0 1 7 2 1 3 2 4 0 1 7 2 4 0 1 7 4 6 1 7 2 4 0 1 7 2 4 0 1 7 2 4 0 1 7 2 4 0 1 7 2 1 3 2 4 0 1 7 2 4 0 1 7 4 6 1 7 2 4 0 1 7 2 4 0 1 7 2 4 0 1 7 2 4 0 1 7 2 1 3 2 4 0 1 7 2 4 0 1 7 4 6 1 7 2 4 0 1 7 2 4 0 1 7 2 4 0 1 7 2 4 0 1 7 2 1 3 2 4 0 1 7 2 4 0 1 7 4 6 1 7 2 4 0 1 7 2 4 0 1 7 2 4 0 1 7 2 4 0 1 7 2 1 3 2 4 0 1 7 2 4 0 1 7 4 6 1 7 2 4 0 1 7 2 4 0 1 7 2 4 0 1 7 2 4 0 1 7 2 1 3 2 4 0 1 7 2 4 0 1 7 7 3 2 4 0 1 7 2 4 0 1 7 2 4 0 1 7 2 4 0 1 7 2 1 3 2 4 0 1 7 2 4 0 1 7 4 6 1 7 2 4 0 1 7 2 4 0 1 7 2 4 0 1 7 2 4 0 1 7 2 1 3 2 4 0 1 7 2 4 0 1 6 4 6 1 7 2 4 0 1 7 2 4 0 1 7 2 4 0 1 7 2 4 0 1 7 2 1 3 2 4 0 1 7 2 4 0 1 7 4 6 1 7 2 4 0 1 7 2 4 0 1 7 2 4 0 1 7 2 4 0 1 7 2 1 3 2 4 0 1 7 2 4 0 1 7 4 6 1 7 2 4 0 1 7 2 4 0 1 7 2 4 0 1 7 2 4 0 1 7 2 1 3 2 4 0 1 7 2 4 0 1 7 4 6 1 7 2 4 0 1 7 2 4 0 1 7 2 4 0 1 7 2 4 0 1 7 2 1 3 2 4 0 1 7 2 4 0 1 7 4 6 1 7 2 4 0 1 7 2 4 0 1 7 2 4 0 1 7 2 4 0 1 7 2 1 3 2 4 0 1 7 2 4 0 1 7 4 6 1 7 4 6 1 7 2 4 0 1 7 2 4 0 1 7 2 4 0 1 7 2 0 1 7 2 1 3 2 4 0 1 7 2 4 0 1 7 4 6 1 7 2 4 0 1 7 2 4 0 1 7 2 4 0 1 7 2 4 0 1 7 2 1 3 2 4 0 1 7 2 4 0 1 7 4 6 1 7 2 4 0 1 7 2 4 0 1 7 2 4 0 1 7 2 4 0 1 7 2 1 3 2 4 0 1 7 2 4 0 1 7 7 3 4 6 1 7 2 4 0 1 7 2 4 0 1 7 2 4 0 1 7 2 4 0 1 7 2 1 3 2 4 0 1 7 2 4 0 1 7 4 6 1 7 2 4 0 1 7 2 4 0 1 7 2 4 0 1 7 2 4 0 1 7 2 1 3 2 4 0 1 7 2 4 0 1 7 4 6 1 7 2 4 0 1 7 2 4 0 1 7 2 4 0 1 7 2 4 0 1 7 2 1 3 2 4 0 1 7 2 4 0 1 7 4 6 1 7 2 4 0 1 7 2 4 0 1 7 2 4 0 1 7 2 4 0 1 7 2 1 3 2 4 0 1 7 2 4 0 1 7 4 6 1 7 2 4 0 1 7 4 6 1 7 2 4 0 1 7 2 4 0 1 7 2 4 0 1 7 2 4 0 1 7 2 1 3 2 4 0 1 7 2 4 0 1 7 4 6 1 7 2 4 0 1 7 2 4 0 1 7 2 4 0 1 7 2 4 0 1 7 2 1 3 2 4 0 1 7 2 4 0 1 7 4 6 1 7 2 4 0 1 7 2 4 0 1 7 2 4 0 1 7 2 4 0 1 7 2 1 3 2 4 0 1 7 2 4 0 1 7 4 6 1 7 2 4 0 1 7 2 4 0 1 7 2 4 0 1 7 2 4 0 1 7 2 1 3 2 4 0 1 7 2 4 0 1 7 4 6 1 7 2 4 0 1 7 2 4 0 1 7 2 4 0 1 7 2 4 0 1 7 2 1 3 2 4 0 1 7 2 4 0 1 7 4 6 1 7 2 4 0 1 7 2 4 0 1 7 2 4 0 1 7 2 4 0 1 7 2 1 3 2 4 0 1 7 2 4 0 1 7 4 6 1 7 2 1 3 2 4 0 1 7 2 4 4 8 1 7 0 4 2 1 7 0 2 1 7 0 4 4 6 1 7 2 4 0 1 7 2 4 0 1 7 2 4 0 1 7 2 4 0 1 7 2 1 3 2 4 0 1 7 2 4 0 1 7 4 6 1 7 2 4 0 1 7 2 4 0 1 7 2 4 0 1 7 2 4 0 1 7 2 1 3 2 4 0 1 7 2 4 0 1 7 4 6 1 7 2 4 0 1 7 2 4 0 1 7 2 4 0 1 7 2 4 0 1 7 2 1 3 2 4 0 1 7 2 4 0 1 7 4 6 1 7 2 4 0 1 7 2 4 0 1 7 2 4 0 1 7 2 4 0 1 7 2 1 3 2 4 0 1 7 2 4 0 1 7 4 6 1 7 2 4 4 8 1 7 0 4 2 1 7 0 4 2 1 7 0 4 2 1 7 0 4 2 1 7 0 1 3 2 4 0 1 7 2 4 0 1 7 6 1 7 2 4 4 8 1 7 0 4 2 1 7 0 4 2 1 7 0 4 2 1 7 0 4 2 1 7 0 1 3 2 4 0 1 7 2 4 0 1 7 4 6 1 7 2 4 0 1 7 2 4 0 1 7 2 4 0 1 7 2 4 0 1 7 2 1 3 2 4 0 "
          ]
        }
      ],
      "source": [
        "def print_table(state):\n",
        "    for i in range(3):\n",
        "        row = []\n",
        "        for val in state[3*i:3*i+3]:\n",
        "            row.append(' ' if val == 0 else str(val))\n",
        "        print(' '.join(row))\n",
        "    print()\n",
        "\n",
        "def get_neighbors(state):\n",
        "    neighbors = []\n",
        "    zero_pos = state.index(0)\n",
        "    row, col = zero_pos // 3, zero_pos % 3\n",
        "\n",
        "    moves = [(-1,0),(1,0),(0,-1),(0,1)]  # up, down, left, right\n",
        "\n",
        "    for dr, dc in moves:\n",
        "        new_r, new_c = row + dr, col + dc\n",
        "        if 0 <= new_r < 3 and 0 <= new_c < 3:\n",
        "            new_pos = new_r * 3 + new_c\n",
        "            new_state = list(state)\n",
        "            new_state[zero_pos], new_state[new_pos] = new_state[new_pos], new_state[zero_pos]\n",
        "            neighbors.append(tuple(new_state))\n",
        "    return neighbors\n",
        "\n",
        "def dfs(start, goal):\n",
        "    stack = [start]\n",
        "    visited = set()\n",
        "    parent = {start: None}\n",
        "\n",
        "    while stack:\n",
        "        current = stack.pop()\n",
        "        if current in visited:\n",
        "            continue\n",
        "        visited.add(current)\n",
        "\n",
        "        if current == goal:\n",
        "            # reconstruct path\n",
        "            path = []\n",
        "            while current:\n",
        "                path.append(current)\n",
        "                current = parent[current]\n",
        "            path.reverse()\n",
        "            return path, visited, stack\n",
        "\n",
        "        for neighbor in get_neighbors(current):\n",
        "            if neighbor not in visited and neighbor not in stack:\n",
        "                parent[neighbor] = current\n",
        "                stack.append(neighbor)\n",
        "\n",
        "    return None, visited, stack  # no solution\n",
        "\n",
        "def input_state(name):\n",
        "    print(f\"Enter the {name} state row by row (3 numbers each row, space separated). Use 0 or leave blank for empty cell:\")\n",
        "    vals = []\n",
        "    for i in range(3):\n",
        "        while True:\n",
        "            row_input = input(f\"Row {i+1}: \").strip().split()\n",
        "            if len(row_input) != 3:\n",
        "                print(\"Please enter exactly 3 numbers or blanks.\")\n",
        "                continue\n",
        "            try:\n",
        "                row = []\n",
        "                for v in row_input:\n",
        "                    if v == '' or v == '0':\n",
        "                        row.append(0)\n",
        "                    else:\n",
        "                        val = int(v)\n",
        "                        if val < 1 or val > 8:\n",
        "                            raise ValueError\n",
        "                        row.append(val)\n",
        "                vals.extend(row)\n",
        "                break\n",
        "            except:\n",
        "                print(\"Invalid input. Use numbers 1-8 or 0/blank for empty.\")\n",
        "    if set(vals) != set(range(9)):\n",
        "        print(\"Invalid state: numbers must be from 0 to 8 without repetition.\")\n",
        "        return input_state(name)\n",
        "    return tuple(vals)\n",
        "\n",
        "# Input\n",
        "start_state = input_state(\"start\")\n",
        "goal_state = input_state(\"goal\")\n",
        "\n",
        "# Run DFS\n",
        "path, visited, remaining = dfs(start_state, goal_state)\n",
        "\n",
        "print(f\"\\nTotal states visited: {len(visited)}\\n\")\n",
        "\n",
        "if path:\n",
        "    print(\"Final path length:\", len(path))\n",
        "    print(\"Final state:\")\n",
        "    print_table(path[-1])\n",
        "else:\n",
        "    print(\"No solution found.\")\n",
        "\n",
        "print(\"Remaining states in stack (positions of zero):\")\n",
        "for state in remaining:\n",
        "    print(state.index(0), end=\" \")\n"
      ]
    }
  ]
}