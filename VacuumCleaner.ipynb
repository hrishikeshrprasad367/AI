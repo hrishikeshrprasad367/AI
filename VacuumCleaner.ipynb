{
  "nbformat": 4,
  "nbformat_minor": 0,
  "metadata": {
    "colab": {
      "provenance": [],
      "authorship_tag": "ABX9TyPVkqABcKBn7mZlmX5iy3lC",
      "include_colab_link": true
    },
    "kernelspec": {
      "name": "python3",
      "display_name": "Python 3"
    },
    "language_info": {
      "name": "python"
    }
  },
  "cells": [
    {
      "cell_type": "markdown",
      "metadata": {
        "id": "view-in-github",
        "colab_type": "text"
      },
      "source": [
        "<a href=\"https://colab.research.google.com/github/hrishikeshrprasad367/AI/blob/main/VacuumCleaner.ipynb\" target=\"_parent\"><img src=\"https://colab.research.google.com/assets/colab-badge.svg\" alt=\"Open In Colab\"/></a>"
      ]
    },
    {
      "cell_type": "code",
      "execution_count": 10,
      "metadata": {
        "colab": {
          "base_uri": "https://localhost:8080/"
        },
        "id": "lEZX_2CEg3mn",
        "outputId": "aa54a52b-41e1-4ca5-cf3b-b2f84cfba119"
      },
      "outputs": [
        {
          "output_type": "stream",
          "name": "stdout",
          "text": [
            "Enter 1 for dirty, 0 for clean : 1\n",
            "Enter 1 for dirty, 0 for clean : 1\n",
            "Enter 1 for dirty, 0 for clean : 0\n",
            "Enter 1 for dirty, 0 for clean : 1\n",
            "Enter the initial state(0-3) : 1\n",
            "Enter 0 for sucking, 1 for moving left, 2 for moving right :1\n",
            "Moving to room 0\n",
            "0 : 1 ,1 : 1 ,2: 0 ,3 : 1\n",
            "[1, 1, 0, 1]\n",
            "Enter 0 for sucking, 1 for moving left, 2 for moving right :0\n",
            "Sucking the dust in room 0\n",
            "0 : 0 ,1 : 1 ,2: 0 ,3 : 1\n",
            "[0, 1, 0, 1]\n",
            "Enter 0 for sucking, 1 for moving left, 2 for moving right :2\n",
            "Moving to room 1\n",
            "0 : 0 ,1 : 1 ,2: 0 ,3 : 1\n",
            "[0, 1, 0, 1]\n",
            "Enter 0 for sucking, 1 for moving left, 2 for moving right :0\n",
            "Sucking the dust in room 1\n",
            "0 : 0 ,1 : 0 ,2: 0 ,3 : 1\n",
            "[0, 0, 0, 1]\n",
            "Enter 0 for sucking, 1 for moving left, 2 for moving right :2\n",
            "Moving to room 2\n",
            "0 : 0 ,1 : 0 ,2: 0 ,3 : 1\n",
            "[0, 0, 0, 1]\n",
            "Enter 0 for sucking, 1 for moving left, 2 for moving right :2\n",
            "Moving to room 3\n",
            "0 : 0 ,1 : 0 ,2: 0 ,3 : 1\n",
            "[0, 0, 0, 1]\n",
            "Enter 0 for sucking, 1 for moving left, 2 for moving right :0\n",
            "Sucking the dust in room 3\n",
            "0 : 0 ,1 : 0 ,2: 0 ,3 : 0\n",
            "[0, 0, 0, 0]\n",
            "All rooms clean\n"
          ]
        }
      ],
      "source": [
        "n=4\n",
        "rooms=[0]*n\n",
        "for i in range(n):\n",
        "  x=int(input(\"Enter 1 for dirty, 0 for clean : \"))\n",
        "  rooms[i]=x\n",
        "initial_state=int(input(\"Enter the initial state(0-3) : \"))\n",
        "while True:\n",
        "  action=int(input(\"Enter 0 for sucking, 1 for moving left, 2 for moving right :\"))\n",
        "  if action==0:\n",
        "    rooms[initial_state]=0\n",
        "    print(f\"Sucking the dust in room {initial_state}\")\n",
        "    print(f\"0 : {rooms[0]}\" ,f\",1 : {rooms[1]}\",f\",2: {rooms[2]}\" ,f\",3 : {rooms[3]}\")\n",
        "  elif action==1:\n",
        "    initial_state-=1 if initial_state>0 else 0\n",
        "    print(f\"Moving to room {initial_state}\")\n",
        "    print(f\"0 : {rooms[0]}\" ,f\",1 : {rooms[1]}\",f\",2: {rooms[2]}\" ,f\",3 : {rooms[3]}\")\n",
        "  elif action==2:\n",
        "    initial_state+=1 if initial_state<n-1 else n-1\n",
        "    print(f\"Moving to room {initial_state}\")\n",
        "    print(f\"0 : {rooms[0]}\" ,f\",1 : {rooms[1]}\",f\",2: {rooms[2]}\" ,f\",3 : {rooms[3]}\")\n",
        "  else:\n",
        "    print(\"Invalid action\")\n",
        "    continue\n",
        "  print(rooms)\n",
        "  if sum(rooms)==0:\n",
        "    print(\"All rooms clean\")\n",
        "    break"
      ]
    }
  ]
}