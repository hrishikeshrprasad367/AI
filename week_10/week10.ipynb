{
  "nbformat": 4,
  "nbformat_minor": 0,
  "metadata": {
    "colab": {
      "provenance": [],
      "authorship_tag": "ABX9TyMQqUOZF4eTUW4dFDgGoXT5",
      "include_colab_link": true
    },
    "kernelspec": {
      "name": "python3",
      "display_name": "Python 3"
    },
    "language_info": {
      "name": "python"
    }
  },
  "cells": [
    {
      "cell_type": "markdown",
      "metadata": {
        "id": "view-in-github",
        "colab_type": "text"
      },
      "source": [
        "<a href=\"https://colab.research.google.com/github/hrishikeshrprasad367/AI/blob/main/week_10/week10.ipynb\" target=\"_parent\"><img src=\"https://colab.research.google.com/assets/colab-badge.svg\" alt=\"Open In Colab\"/></a>"
      ]
    },
    {
      "cell_type": "code",
      "execution_count": 2,
      "metadata": {
        "colab": {
          "base_uri": "https://localhost:8080/"
        },
        "id": "hCD2xPJ3YYgC",
        "outputId": "ee09ff0c-82b6-44e9-e86c-7862da5eef15"
      },
      "outputs": [
        {
          "output_type": "stream",
          "name": "stdout",
          "text": [
            "=== Alpha-Beta Pruning with Tree ===\n",
            "Enter 8 leaf node values separated by spaces: 3 5 6 9 1 2 0 -1\n",
            "\n",
            "--- Game Tree ---\n",
            "R = 5\n",
            "    R0 = 5\n",
            "        R00 = 5\n",
            "            R000 = 3\n",
            "            R001 = 5\n",
            "        R01 = 6 [PRUNED]\n",
            "            R010 = 6\n",
            "    R1 = 2 [PRUNED]\n",
            "        R10 = 9\n",
            "            R100 = 9\n",
            "            R101 = 1\n",
            "        R11 = 2\n",
            "            R110 = 2\n",
            "            R111 = 0\n",
            "\n",
            "Optimal Value at Root: 5\n"
          ]
        }
      ],
      "source": [
        "class Node:\n",
        "    def __init__(self, name):\n",
        "        self.name = name\n",
        "        self.children = []\n",
        "        self.value = None\n",
        "        self.pruned = False\n",
        "\n",
        "def alpha_beta(node, depth, maximizing, values, alpha, beta, index):\n",
        "    # Terminal node\n",
        "    if depth == 3:\n",
        "        node.value = values[index[0]]\n",
        "        index[0] += 1\n",
        "        return node.value\n",
        "\n",
        "    if maximizing:\n",
        "        best = float('-inf')\n",
        "        for i in range(2):  # 2 children\n",
        "            child = Node(f\"{node.name}{i}\")\n",
        "            node.children.append(child)\n",
        "            val = alpha_beta(child, depth + 1, False, values, alpha, beta, index)\n",
        "            best = max(best, val)\n",
        "            alpha = max(alpha, best)\n",
        "            if beta <= alpha:\n",
        "                node.pruned = True\n",
        "                break\n",
        "        node.value = best\n",
        "        return best\n",
        "    else:\n",
        "        best = float('inf')\n",
        "        for i in range(2):\n",
        "            child = Node(f\"{node.name}{i}\")\n",
        "            node.children.append(child)\n",
        "            val = alpha_beta(child, depth + 1, True, values, alpha, beta, index)\n",
        "            best = min(best, val)\n",
        "            beta = min(beta, best)\n",
        "            if beta <= alpha:\n",
        "                node.pruned = True\n",
        "                break\n",
        "        node.value = best\n",
        "        return best\n",
        "\n",
        "def print_tree(node, indent=0):\n",
        "    prune_mark = \" [PRUNED]\" if node.pruned else \"\"\n",
        "    val = f\" = {node.value}\" if node.value is not None else \"\"\n",
        "    print(\" \" * indent + f\"{node.name}{val}{prune_mark}\")\n",
        "    for child in node.children:\n",
        "        print_tree(child, indent + 4)\n",
        "\n",
        "# --- main ---\n",
        "print(\"=== Alpha-Beta Pruning with Tree ===\")\n",
        "values = list(map(int, input(\"Enter 8 leaf node values separated by spaces: \").split()))\n",
        "\n",
        "root = Node(\"R\")\n",
        "alpha_beta(root, 0, True, values, float('-inf'), float('inf'), [0])\n",
        "\n",
        "print(\"\\n--- Game Tree ---\")\n",
        "print_tree(root)\n",
        "\n",
        "print(\"\\nOptimal Value at Root:\", root.value)"
      ]
    }
  ]
}