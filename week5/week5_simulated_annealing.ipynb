{
  "nbformat": 4,
  "nbformat_minor": 0,
  "metadata": {
    "colab": {
      "provenance": [],
      "authorship_tag": "ABX9TyOYbubuaKJmYIxICCYtm4nC",
      "include_colab_link": true
    },
    "kernelspec": {
      "name": "python3",
      "display_name": "Python 3"
    },
    "language_info": {
      "name": "python"
    }
  },
  "cells": [
    {
      "cell_type": "markdown",
      "metadata": {
        "id": "view-in-github",
        "colab_type": "text"
      },
      "source": [
        "<a href=\"https://colab.research.google.com/github/hrishikeshrprasad367/AI/blob/main/week5/week5_simulated_annealing.ipynb\" target=\"_parent\"><img src=\"https://colab.research.google.com/assets/colab-badge.svg\" alt=\"Open In Colab\"/></a>"
      ]
    },
    {
      "cell_type": "code",
      "execution_count": 1,
      "metadata": {
        "colab": {
          "base_uri": "https://localhost:8080/"
        },
        "id": "sE93FRngP8BC",
        "outputId": "020cc5bf-0669-4dc1-b6ed-b672f3800986"
      },
      "outputs": [
        {
          "output_type": "stream",
          "name": "stdout",
          "text": [
            "Final State: [6, 2, 0, 5, 7, 4, 1, 3]\n",
            "Attacking pairs: 0\n",
            "Found a solution!\n"
          ]
        }
      ],
      "source": [
        "import random\n",
        "import math\n",
        "\n",
        "def calculate_attacks(state):\n",
        "    \"\"\"Heuristic: number of attacking queen pairs.\"\"\"\n",
        "    attacks = 0\n",
        "    n = len(state)\n",
        "    for i in range(n):\n",
        "        for j in range(i + 1, n):\n",
        "            if state[i] == state[j] or abs(state[i] - state[j]) == abs(i - j):\n",
        "                attacks += 1\n",
        "    return attacks\n",
        "\n",
        "def random_neighbor(state):\n",
        "    \"\"\"Generate a random neighbor by moving one queen.\"\"\"\n",
        "    n = len(state)\n",
        "    neighbor = list(state)\n",
        "    col = random.randint(0, n - 1)\n",
        "    row = random.randint(0, n - 1)\n",
        "    while row == state[col]:\n",
        "        row = random.randint(0, n - 1)\n",
        "    neighbor[col] = row\n",
        "    return neighbor\n",
        "\n",
        "def simulated_annealing(n, max_steps=10000, initial_temp=100, cooling_rate=0.99):\n",
        "    \"\"\"Solve N-Queens using simulated annealing.\"\"\"\n",
        "    current = [random.randint(0, n - 1) for _ in range(n)]\n",
        "    current_attacks = calculate_attacks(current)\n",
        "\n",
        "    temperature = initial_temp\n",
        "\n",
        "    for step in range(max_steps):\n",
        "        if current_attacks == 0:\n",
        "            return current, current_attacks\n",
        "\n",
        "        neighbor = random_neighbor(current)\n",
        "        neighbor_attacks = calculate_attacks(neighbor)\n",
        "\n",
        "        delta_e = current_attacks - neighbor_attacks\n",
        "\n",
        "        if delta_e > 0 or random.random() < math.exp(delta_e / temperature):\n",
        "            current, current_attacks = neighbor, neighbor_attacks\n",
        "\n",
        "        temperature *= cooling_rate\n",
        "        if temperature < 1e-6:\n",
        "            break\n",
        "\n",
        "    return current, current_attacks\n",
        "\n",
        "if __name__ == \"__main__\":\n",
        "    N = 8\n",
        "    solution, attacks = simulated_annealing(N)\n",
        "    print(\"Final State:\", solution)\n",
        "    print(\"Attacking pairs:\", attacks)\n",
        "    if attacks == 0:\n",
        "        print(\"Found a solution!\")\n",
        "    else:\n",
        "        print(\"Did not find solution (stuck).\")"
      ]
    }
  ]
}