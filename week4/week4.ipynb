{
  "nbformat": 4,
  "nbformat_minor": 0,
  "metadata": {
    "colab": {
      "provenance": [],
      "authorship_tag": "ABX9TyNzujJUjuAqfG/G52iFZfop",
      "include_colab_link": true
    },
    "kernelspec": {
      "name": "python3",
      "display_name": "Python 3"
    },
    "language_info": {
      "name": "python"
    }
  },
  "cells": [
    {
      "cell_type": "markdown",
      "metadata": {
        "id": "view-in-github",
        "colab_type": "text"
      },
      "source": [
        "<a href=\"https://colab.research.google.com/github/hrishikeshrprasad367/AI/blob/main/week4/week4.ipynb\" target=\"_parent\"><img src=\"https://colab.research.google.com/assets/colab-badge.svg\" alt=\"Open In Colab\"/></a>"
      ]
    },
    {
      "cell_type": "code",
      "execution_count": 3,
      "metadata": {
        "colab": {
          "base_uri": "https://localhost:8080/"
        },
        "id": "P90hRrV4OQCF",
        "outputId": "a85f120e-3262-4d0c-fff3-40721f816fd8"
      },
      "outputs": [
        {
          "output_type": "stream",
          "name": "stdout",
          "text": [
            "Enter initial state (9 numbers, 0 for blank): 1 2 3 4 0 6 7 5 8\n",
            "Enter goal state (9 numbers, 0 for blank): 1 2 3 4 5 6 7 8 0\n",
            "Cost: 0\n",
            "(1, 2, 3)\n",
            "(4, 0, 6)\n",
            "(7, 5, 8)\n",
            "\n",
            "Cost: 1\n",
            "(1, 2, 3)\n",
            "(4, 5, 6)\n",
            "(7, 0, 8)\n",
            "\n",
            "Cost: 2\n",
            "(1, 2, 3)\n",
            "(4, 5, 6)\n",
            "(7, 8, 0)\n",
            "\n"
          ]
        }
      ],
      "source": [
        "import heapq\n",
        "\n",
        "moves = {'U': -3, 'D': 3, 'L': -1, 'R': 1}\n",
        "\n",
        "def is_valid(blank, move):\n",
        "    if move == 'L' and blank % 3 == 0: return False\n",
        "    if move == 'R' and blank % 3 == 2: return False\n",
        "    if move == 'U' and blank < 3: return False\n",
        "    if move == 'D' and blank > 5: return False\n",
        "    return True\n",
        "\n",
        "def neighbors(state):\n",
        "    blank = state.index(0)\n",
        "    result = []\n",
        "    for off in moves.values():\n",
        "        if is_valid(blank, [k for k,v in moves.items() if v == off][0]):\n",
        "            new_state = list(state)\n",
        "            swap = blank + off\n",
        "            new_state[blank], new_state[swap] = new_state[swap], new_state[blank]\n",
        "            result.append(tuple(new_state))\n",
        "    return result\n",
        "\n",
        "def h_misplaced(state, goal):\n",
        "    return sum(1 for i in range(9) if state[i] != 0 and state[i] != goal[i])\n",
        "\n",
        "def astar(start, goal):\n",
        "    open_heap = []\n",
        "    heapq.heappush(open_heap, (h_misplaced(start, goal), 0, start, [start]))\n",
        "    visited = set()\n",
        "    while open_heap:\n",
        "        f, g, state, path = heapq.heappop(open_heap)\n",
        "        if state == goal:\n",
        "            return path\n",
        "        if state in visited:\n",
        "            continue\n",
        "        visited.add(state)\n",
        "        for nxt in neighbors(state):\n",
        "            if nxt not in visited:\n",
        "                new_g = g + 1\n",
        "                new_f = new_g + h_misplaced(nxt, goal)\n",
        "                heapq.heappush(open_heap, (new_f, new_g, nxt, path + [nxt]))\n",
        "    return None\n",
        "\n",
        "if __name__ == \"__main__\":\n",
        "    init = tuple(map(int, input(\"Enter initial state (9 numbers, 0 for blank): \").split()))\n",
        "    goal = tuple(map(int, input(\"Enter goal state (9 numbers, 0 for blank): \").split()))\n",
        "    solution = astar(init, goal)\n",
        "    if solution:\n",
        "        for i, s in enumerate(solution):\n",
        "            print(\"Cost:\", i)\n",
        "            print(s[0:3])\n",
        "            print(s[3:6])\n",
        "            print(s[6:9])\n",
        "            print()\n",
        "    else:\n",
        "        print(\"No solution found.\")"
      ]
    }
  ]
}