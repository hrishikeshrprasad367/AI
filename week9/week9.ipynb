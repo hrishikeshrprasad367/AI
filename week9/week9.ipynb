{
  "nbformat": 4,
  "nbformat_minor": 0,
  "metadata": {
    "colab": {
      "provenance": [],
      "authorship_tag": "ABX9TyNTg3vwIhKvBXbHDE8iRiMp",
      "include_colab_link": true
    },
    "kernelspec": {
      "name": "python3",
      "display_name": "Python 3"
    },
    "language_info": {
      "name": "python"
    }
  },
  "cells": [
    {
      "cell_type": "markdown",
      "metadata": {
        "id": "view-in-github",
        "colab_type": "text"
      },
      "source": [
        "<a href=\"https://colab.research.google.com/github/hrishikeshrprasad367/AI/blob/main/week9/week9.ipynb\" target=\"_parent\"><img src=\"https://colab.research.google.com/assets/colab-badge.svg\" alt=\"Open In Colab\"/></a>"
      ]
    },
    {
      "cell_type": "code",
      "execution_count": 3,
      "metadata": {
        "colab": {
          "base_uri": "https://localhost:8080/"
        },
        "id": "Xk7czUAfXgZE",
        "outputId": "baa00de9-f2db-4afb-834b-b770022ab261"
      },
      "outputs": [
        {
          "output_type": "stream",
          "name": "stdout",
          "text": [
            "=== FOL Resolution Demo with Proof Tree ===\n",
            "Enter number of clauses in Knowledge Base: 3\n",
            "Enter clause 1: A v B\n",
            "Enter clause 2: ~B v C\n",
            "Enter clause 3: ~C\n",
            "Enter query to prove: A\n",
            "[Step 1] R1 = Resolve(C1, C2) → {'A', 'C'}\n",
            "[Step 2] R2 = Resolve(C1, C4) → {'B'}\n",
            "[Step 3] R3 = Resolve(C2, C3) → {'~B'}\n",
            "[Step 4] R4 = Resolve(C1, R3) → {'A'}\n",
            "[Step 5] R5 = Resolve(C2, R2) → {'C'}\n",
            "[Step 6] R6 = Resolve(R2, R3) → {}\n",
            "\n",
            "✅ Query is proved by resolution (empty clause found).\n",
            "\n",
            "--- Proof Tree ---\n",
            "R6: {}\n",
            "    R2: {'B'}\n",
            "        C1\n",
            "        C4\n",
            "    R3: {'~B'}\n",
            "        C2\n",
            "        C3\n"
          ]
        },
        {
          "output_type": "execute_result",
          "data": {
            "text/plain": [
              "True"
            ]
          },
          "metadata": {},
          "execution_count": 3
        }
      ],
      "source": [
        "from itertools import combinations\n",
        "\n",
        "def get_clauses():\n",
        "    n = int(input(\"Enter number of clauses in Knowledge Base: \"))\n",
        "    clauses = []\n",
        "    for i in range(n):\n",
        "        clause = input(f\"Enter clause {i+1}: \")\n",
        "        clause_set = set(clause.replace(\" \", \"\").split(\"v\"))\n",
        "        clauses.append(clause_set)\n",
        "    return clauses\n",
        "\n",
        "def resolve(ci, cj):\n",
        "    resolvents = []\n",
        "    for di in ci:\n",
        "        for dj in cj:\n",
        "            if di == ('~' + dj) or dj == ('~' + di):\n",
        "                new_clause = (ci - {di}) | (cj - {dj})\n",
        "                resolvents.append(new_clause)\n",
        "    return resolvents\n",
        "\n",
        "def resolution_algorithm(kb, query):\n",
        "    kb.append(set(['~' + query]))\n",
        "    derived = []\n",
        "    clause_id = {frozenset(c): f\"C{i+1}\" for i, c in enumerate(kb)}\n",
        "\n",
        "    step = 1\n",
        "    while True:\n",
        "        new = []\n",
        "        for (ci, cj) in combinations(kb, 2):\n",
        "            resolvents = resolve(ci, cj)\n",
        "            for res in resolvents:\n",
        "                if res not in kb and res not in new:\n",
        "                    cid_i, cid_j = clause_id[frozenset(ci)], clause_id[frozenset(cj)]\n",
        "                    clause_name = f\"R{step}\"\n",
        "                    derived.append((clause_name, res, cid_i, cid_j))\n",
        "                    clause_id[frozenset(res)] = clause_name\n",
        "                    new.append(res)\n",
        "                    print(f\"[Step {step}] {clause_name} = Resolve({cid_i}, {cid_j}) → {res or '{}'}\")\n",
        "                    step += 1\n",
        "\n",
        "                    # If empty clause found → proof complete\n",
        "                    if res == set():\n",
        "                        print(\"\\n✅ Query is proved by resolution (empty clause found).\")\n",
        "                        print(\"\\n--- Proof Tree ---\")\n",
        "                        print_tree(derived, clause_name)\n",
        "                        return True\n",
        "        if not new:\n",
        "            print(\"\\n❌ Query cannot be proved by resolution.\")\n",
        "            return False\n",
        "        kb.extend(new)\n",
        "\n",
        "def print_tree(derived, goal):\n",
        "    tree = {name: (parents, clause) for name, clause, *parents in [(r[0], r[1], r[2:][0], r[2:][1]) for r in derived]}\n",
        "\n",
        "    def show(node, indent=0):\n",
        "        if node not in tree:\n",
        "            print(\" \" * indent + node)\n",
        "            return\n",
        "        parents, clause = tree[node]\n",
        "        print(\" \" * indent + f\"{node}: {set(clause) or '{}'}\")\n",
        "        for p in parents:\n",
        "            show(p, indent + 4)\n",
        "\n",
        "    show(goal)\n",
        "\n",
        "# --- MAIN PROGRAM ---\n",
        "print(\"=== FOL Resolution Demo with Proof Tree ===\")\n",
        "kb = get_clauses()\n",
        "query = input(\"Enter query to prove: \")\n",
        "resolution_algorithm(kb, query)"
      ]
    }
  ]
}